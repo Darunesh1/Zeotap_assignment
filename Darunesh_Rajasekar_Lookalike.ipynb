{
  "nbformat": 4,
  "nbformat_minor": 0,
  "metadata": {
    "colab": {
      "provenance": []
    },
    "kernelspec": {
      "name": "python3",
      "display_name": "Python 3"
    },
    "language_info": {
      "name": "python"
    }
  },
  "cells": [
    {
      "cell_type": "code",
      "execution_count": 27,
      "metadata": {
        "id": "pdRc2fj6nhE8"
      },
      "outputs": [],
      "source": [
        "import pandas as pd\n",
        "import numpy as np\n",
        "from sklearn.preprocessing import StandardScaler, OneHotEncoder\n",
        "from sklearn.compose import ColumnTransformer\n",
        "from sklearn.metrics.pairwise import cosine_similarity\n",
        "from sklearn.pipeline import Pipeline\n"
      ]
    },
    {
      "cell_type": "code",
      "source": [
        "#  datasets\n",
        "customers = pd.read_csv('Customers.csv')\n",
        "products = pd.read_csv('Products.csv')\n",
        "transactions = pd.read_csv('Transactions.csv')\n",
        "\n"
      ],
      "metadata": {
        "id": "gv1_eoAKqnpP"
      },
      "execution_count": 28,
      "outputs": []
    },
    {
      "cell_type": "code",
      "source": [
        "# merge trans && products\n",
        "transactions = pd.merge(transactions, products, on='ProductID')\n",
        "transactions.columns"
      ],
      "metadata": {
        "colab": {
          "base_uri": "https://localhost:8080/"
        },
        "id": "QrUED7agqsDG",
        "outputId": "8f5d9d8c-8203-4b2c-e9b7-5997cfd3f853"
      },
      "execution_count": 29,
      "outputs": [
        {
          "output_type": "execute_result",
          "data": {
            "text/plain": [
              "Index(['TransactionID', 'CustomerID', 'ProductID', 'TransactionDate',\n",
              "       'Quantity', 'TotalValue', 'Price_x', 'ProductName', 'Category',\n",
              "       'Price_y'],\n",
              "      dtype='object')"
            ]
          },
          "metadata": {},
          "execution_count": 29
        }
      ]
    },
    {
      "cell_type": "code",
      "source": [
        "# aggregate transaction data at the customer level\n",
        "customer_transactions = transactions.groupby('CustomerID').agg({\n",
        "    'TotalValue': 'sum',          # Sum of total transaction value\n",
        "    'Quantity': 'sum',            # Sum of quantities purchased\n",
        "    'Price_x': 'mean',            # Average price of products purchased\n",
        "    'Category': lambda x: x.mode()[0]  # Most frequent category\n",
        "}).reset_index()\n",
        "\n",
        "customer_transactions = customer_transactions.rename(columns={\n",
        "    'Price_x': 'AvgPrice'\n",
        "})"
      ],
      "metadata": {
        "id": "CwbVOLfUqt8m"
      },
      "execution_count": 30,
      "outputs": []
    },
    {
      "cell_type": "code",
      "source": [
        "\n",
        "customer_data = pd.merge(customers, customer_transactions, on='CustomerID')"
      ],
      "metadata": {
        "id": "kBJjOIaPqv_X"
      },
      "execution_count": 31,
      "outputs": []
    },
    {
      "cell_type": "code",
      "source": [
        "# feature engineering\n",
        "customer_data['SignupDate'] = pd.to_datetime(customer_data['SignupDate'])\n",
        "customer_data['DaysSinceSignup'] = (pd.Timestamp.now() - customer_data['SignupDate']).dt.days"
      ],
      "metadata": {
        "id": "anTLvol5qxxe"
      },
      "execution_count": 32,
      "outputs": []
    },
    {
      "cell_type": "code",
      "source": [
        "\n",
        "\n",
        "customer_data = customer_data.drop(columns=['CustomerName', 'SignupDate'])"
      ],
      "metadata": {
        "id": "YQwHD1rtqz6P"
      },
      "execution_count": 33,
      "outputs": []
    },
    {
      "cell_type": "code",
      "source": [
        "# Define numeric and categorical features\n",
        "numeric_features = ['TotalValue', 'Quantity', 'AvgPrice', 'DaysSinceSignup']  # Updated 'Price' to 'AvgPrice'\n",
        "categorical_features = ['Region', 'Category']\n",
        "\n",
        "\n",
        "preprocessor = ColumnTransformer(\n",
        "    transformers=[\n",
        "        ('num', StandardScaler(), numeric_features),\n",
        "        ('cat', OneHotEncoder(), categorical_features)\n",
        "    ])\n",
        "\n",
        "\n",
        "\n",
        "\n",
        "print(f\"Transformed features shape: {customer_features.shape}\")"
      ],
      "metadata": {
        "colab": {
          "base_uri": "https://localhost:8080/"
        },
        "id": "xgQY9gDzq1ou",
        "outputId": "48dd2857-5a2d-4cca-cf0a-2e61b979eaaa"
      },
      "execution_count": 34,
      "outputs": [
        {
          "output_type": "stream",
          "name": "stdout",
          "text": [
            "Transformed features shape: (199, 12)\n"
          ]
        }
      ]
    },
    {
      "cell_type": "code",
      "source": [
        "\n",
        "customer_features = preprocessor.fit_transform(customer_data)"
      ],
      "metadata": {
        "id": "MGKa2uvbq56_"
      },
      "execution_count": 35,
      "outputs": []
    },
    {
      "cell_type": "code",
      "source": [
        "\n",
        "similarity_matrix = cosine_similarity(customer_features)"
      ],
      "metadata": {
        "id": "s9BcYwaKq7ue"
      },
      "execution_count": 36,
      "outputs": []
    },
    {
      "cell_type": "code",
      "source": [
        "\n",
        "\n",
        "def get_top_similar_customers(customer_id, similarity_matrix, customer_data, top_n=3):\n",
        "    customer_index = customer_data[customer_data['CustomerID'] == customer_id].index[0]\n",
        "    similarity_scores = list(enumerate(similarity_matrix[customer_index]))\n",
        "    similarity_scores = sorted(similarity_scores, key=lambda x: x[1], reverse=True)\n",
        "    top_similar_customers = similarity_scores[1:top_n+1]  # Exclude the customer itself\n",
        "    return [(customer_data.iloc[i]['CustomerID'], score) for i, score in top_similar_customers]"
      ],
      "metadata": {
        "id": "abESVmqIq9d_"
      },
      "execution_count": 37,
      "outputs": []
    },
    {
      "cell_type": "code",
      "source": [
        "# generate  for the first 20 customers\n",
        "lookalike_map = {}\n",
        "for customer_id in customer_data['CustomerID'].iloc[:20]:\n",
        "    lookalike_map[customer_id] = get_top_similar_customers(customer_id, similarity_matrix, customer_data)"
      ],
      "metadata": {
        "id": "gbN_XehFq_MX"
      },
      "execution_count": 38,
      "outputs": []
    },
    {
      "cell_type": "code",
      "source": [
        "\n",
        "# save the results to a CSV file\n",
        "lookalike_df = pd.DataFrame.from_dict(lookalike_map, orient='index')\n",
        "lookalike_df = lookalike_df.stack().apply(pd.Series).reset_index(level=1, drop=True)\n",
        "lookalike_df.columns = ['SimilarCustomerID', 'SimilarityScore']\n",
        "lookalike_df.to_csv('Lookalike.csv')\n",
        "\n",
        "print(\"Lookalike recommendations saved to Lookalike.csv\")"
      ],
      "metadata": {
        "colab": {
          "base_uri": "https://localhost:8080/"
        },
        "id": "eJckZ_u5rBSe",
        "outputId": "77079212-102d-4d64-d9e2-4311554a31e2"
      },
      "execution_count": 39,
      "outputs": [
        {
          "output_type": "stream",
          "name": "stdout",
          "text": [
            "Lookalike recommendations saved to Lookalike.csv\n"
          ]
        }
      ]
    },
    {
      "cell_type": "code",
      "source": [],
      "metadata": {
        "id": "LYzYK02UuDx-"
      },
      "execution_count": null,
      "outputs": []
    }
  ]
}